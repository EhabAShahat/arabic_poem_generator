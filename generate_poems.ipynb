{
 "cells": [
  {
   "cell_type": "code",
   "execution_count": null,
   "metadata": {},
   "outputs": [],
   "source": [
    "import rhymes\n",
    "import markovify\n",
    "from tqdm import tqdm"
   ]
  },
  {
   "cell_type": "code",
   "execution_count": null,
   "metadata": {},
   "outputs": [],
   "source": [
    "def markov(text_file):\n",
    "    with open(text_file, 'r', encoding='utf-8') as f:\n",
    "        text = f.read()\n",
    "    text_model = markovify.NewlineText(text)\n",
    "    return text_model"
   ]
  },
  {
   "cell_type": "code",
   "execution_count": null,
   "metadata": {},
   "outputs": [],
   "source": [
    "def generate_poem_single_rhyme(poet_name, rhyme, iterations=10000, use_tqdm=False):\n",
    "    n_of_rhyme_letters = len(rhyme)\n",
    "    input_file = '.\\input\\{}.txt'.format(poet_name)\n",
    "    text_model = markov(input_file)\n",
    "    rhymes_list = rhymes.rhymes_with_last_n_chars(rhyme, n_of_rhyme_letters)\n",
    "    bayts = set()\n",
    "    used_rhymes = set()\n",
    "    \n",
    "    poem = \"\"\n",
    "    \n",
    "    if use_tqdm == True:\n",
    "        if hasattr(tqdm, '_instances'): tqdm._instances.clear()\n",
    "        it_range = tqdm(range(iterations))\n",
    "    else:\n",
    "        it_range = range(iterations)\n",
    "        \n",
    "    for i in it_range:\n",
    "        bayt = text_model.make_short_sentence(280, tries=100)\n",
    "        last_word = bayt.split()[-1]\n",
    "        if (last_word in rhymes_list) and (last_word not in used_rhymes) and (bayt not in bayts):\n",
    "            bayts.add(bayt)\n",
    "            used_rhymes.add(last_word)\n",
    "            poem += \"{}\\n\".format(bayt)\n",
    "            if not use_tqdm:\n",
    "                print(bayt)\n",
    "    return poem\n",
    "\n",
    "def generate_poem_2_rhymes(poet_name, rhyme_1, rhyme_2, iterations=10000, use_tqdm=False):\n",
    "    n_of_rhyme_1_letters = len(rhyme_1)\n",
    "    n_of_rhyme_2_letters = len(rhyme_2)\n",
    "    \n",
    "    input_file = '.\\input\\{}.txt'.format(poet_name)\n",
    "    text_model = markov(input_file)\n",
    "    \n",
    "    rhymes_1_list = rhymes.rhymes_with_last_n_chars(rhyme_1, n_of_rhyme_1_letters)\n",
    "    rhymes_2_list = rhymes.rhymes_with_last_n_chars(rhyme_2, n_of_rhyme_2_letters)\n",
    "    \n",
    "    bayts_1 = set()\n",
    "    bayts_2 = set()\n",
    "    \n",
    "    used_rhymes_1 = set()\n",
    "    used_rhymes_2 = set()\n",
    "    \n",
    "    poem = \"\"\n",
    "    \n",
    "    if use_tqdm == True:\n",
    "        if hasattr(tqdm, '_instances'): tqdm._instances.clear()\n",
    "        it_range = tqdm(range(iterations))\n",
    "    else:\n",
    "        it_range = range(iterations)\n",
    "        \n",
    "    for i in it_range:\n",
    "        bayt = text_model.make_short_sentence(280, tries=100)\n",
    "        last_word = bayt.split()[-1]\n",
    "        \n",
    "        if (last_word in rhymes_1_list) and (last_word not in used_rhymes_1) and (bayt not in bayts_1):\n",
    "            bayts_1.add(bayt)\n",
    "            used_rhymes_1.add(last_word)\n",
    "\n",
    "        if (last_word in rhymes_2_list) and (last_word not in used_rhymes_2) and (bayt not in bayts_2):\n",
    "            bayts_2.add(bayt)\n",
    "            used_rhymes_2.add(last_word)                \n",
    "    \n",
    "    len_of_poem = min(len(bayts_1), len(bayts_2))\n",
    "    for i in range(len_of_poem):\n",
    "        poem += \"{}\\n{}\\n\".format(list(bayts_1)[i], list(bayts_2)[i])\n",
    "        \n",
    "    return poem"
   ]
  },
  {
   "cell_type": "code",
   "execution_count": null,
   "metadata": {},
   "outputs": [],
   "source": [
    "x = generate_poem_single_rhyme(\n",
    "                            'نزار قباني',\n",
    "                            'ية',\n",
    "                            iterations=50000,\n",
    "                            use_tqdm=False\n",
    "                            )"
   ]
  },
  {
   "cell_type": "code",
   "execution_count": null,
   "metadata": {},
   "outputs": [],
   "source": [
    "poem = generate_poem_2_rhymes(\n",
    "                            'عنترة بن شداد',\n",
    "                            'نا',\n",
    "                            'بي',\n",
    "                            iterations=10000,\n",
    "                            use_tqdm=False\n",
    "                            )\n",
    "print(poem)"
   ]
  }
 ],
 "metadata": {
  "kernelspec": {
   "display_name": "Python 3",
   "language": "python",
   "name": "python3"
  },
  "language_info": {
   "codemirror_mode": {
    "name": "ipython",
    "version": 3
   },
   "file_extension": ".py",
   "mimetype": "text/x-python",
   "name": "python",
   "nbconvert_exporter": "python",
   "pygments_lexer": "ipython3",
   "version": "3.6.10"
  }
 },
 "nbformat": 4,
 "nbformat_minor": 4
}
